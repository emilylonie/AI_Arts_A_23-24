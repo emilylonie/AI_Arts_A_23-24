{
 "cells": [
  {
   "cell_type": "markdown",
   "id": "d827c3e9",
   "metadata": {},
   "source": [
    "GUID: 2557756 \n",
    "https://github.com/emilylonie/AI_Arts_A_23-24"
   ]
  },
  {
   "cell_type": "markdown",
   "id": "06e16529",
   "metadata": {},
   "source": [
    "# Week 1: Getting started with Python, Jupyter Notebook and Anaconda\n",
    "Exercises to familarise myself with Jupyter Notebook and it's relation to Python"
   ]
  },
  {
   "cell_type": "markdown",
   "id": "16098ef5",
   "metadata": {},
   "source": [
    "### Task 1"
   ]
  },
  {
   "cell_type": "markdown",
   "id": "2cc7282f",
   "metadata": {},
   "source": [
    "### a)\tWhy you chose to join this course – for, motivation, vision, aspiration?\n",
    "I chose to join this course as I think learning some Python will be a useful skill. And I find the impact of AI on the Humanities interesting."
   ]
  },
  {
   "cell_type": "markdown",
   "id": "ae7c75ce",
   "metadata": {},
   "source": [
    "### b) Prior experience, if any, you have with AI and/or Python\n",
    "\n",
    "My experience with AI is from other classes, I took Introduction to the Digital Humanities last year which touched on the use of AI within the humanities. I have also had a little previous experience with Python in previous studies."
   ]
  },
  {
   "cell_type": "markdown",
   "id": "761e4499",
   "metadata": {},
   "source": [
    "###  c) What you expect to learn from the course \n",
    "* I expect to pick up on some Python language and knowledge and be able to apply this to the humanities work.\n",
    "* I expect to learn current developments in AI and associated applications\n",
    "* I expect to learn an overview of AI history and development"
   ]
  },
  {
   "cell_type": "markdown",
   "id": "9198d913",
   "metadata": {},
   "source": [
    "<div class=\"alert alert-block alert-success\">\n",
    "<b>Success:</b> I have now completed my markdown cells and can start coding!\n",
    "</div>"
   ]
  },
  {
   "cell_type": "markdown",
   "id": "42aaeced",
   "metadata": {},
   "source": [
    "### Task 2.1"
   ]
  },
  {
   "cell_type": "code",
   "execution_count": null,
   "id": "daf559ba",
   "metadata": {},
   "outputs": [],
   "source": [
    "print (\"Hello, world!\") #The print function outputs the code in the (\"\")"
   ]
  },
  {
   "cell_type": "code",
   "execution_count": null,
   "id": "c7a70419",
   "metadata": {},
   "outputs": [],
   "source": [
    "message = \"Hello, world!\" #The message variable pre-defines the string 'hello, world!'\n",
    "print (message)"
   ]
  },
  {
   "cell_type": "code",
   "execution_count": null,
   "id": "f5d6766a",
   "metadata": {},
   "outputs": [],
   "source": [
    "message2 = \"Hello, autumn!\"\n",
    "print (message2)"
   ]
  },
  {
   "cell_type": "code",
   "execution_count": null,
   "id": "b0656168",
   "metadata": {},
   "outputs": [],
   "source": [
    "print (message + \" \" + message2)  #Here, + joins strings together while \" \" acts as a space\n"
   ]
  },
  {
   "cell_type": "code",
   "execution_count": null,
   "id": "ba27a5c0",
   "metadata": {},
   "outputs": [],
   "source": [
    "print (message2*3)  #*3 repeats the string 3 times"
   ]
  },
  {
   "cell_type": "code",
   "execution_count": null,
   "id": "acb063d9",
   "metadata": {},
   "outputs": [],
   "source": [
    "print ((message2 + \" \")*3)"
   ]
  },
  {
   "cell_type": "code",
   "execution_count": null,
   "id": "cdbe1e9e",
   "metadata": {},
   "outputs": [],
   "source": [
    "print (message[0]) #[0] prints the first element in the string"
   ]
  },
  {
   "cell_type": "code",
   "execution_count": null,
   "id": "4dc535e1",
   "metadata": {},
   "outputs": [],
   "source": [
    "print (message2[7:13]) #[7:13] prints the elements in the string between positions 7 and 13"
   ]
  },
  {
   "cell_type": "markdown",
   "id": "ce0bc434",
   "metadata": {},
   "source": [
    "### Task 2.2"
   ]
  },
  {
   "cell_type": "code",
   "execution_count": null,
   "id": "da93d190",
   "metadata": {},
   "outputs": [],
   "source": [
    "from IPython.display import *  #imports a python library which is capable of displaying youtube videos \n",
    "YouTubeVideo(\"AqAJLh9wuZ0\")  #Video sourced from youtube"
   ]
  },
  {
   "cell_type": "markdown",
   "id": "cecc8252",
   "metadata": {},
   "source": [
    "### Task 2.3"
   ]
  },
  {
   "cell_type": "code",
   "execution_count": null,
   "id": "fe0aaf3f",
   "metadata": {},
   "outputs": [],
   "source": [
    "import webbrowser #importing the web broswer library\n",
    "import requests #importing requests library\n",
    "\n",
    "print(\"Shall we hunt down an old website?\") #printing string\n",
    "site = input(\"Type a website URL: \") #assigning a value to \"site\" variable\n",
    "era = input(\"Type year, month, and date, e.g., 20150613: \") #assigning a value to \"era\" variable\n",
    "url = \"http://archive.org/wayback/available?url=%s&timestamp=%s\" % (site, era) #assigning a value to \"url\" variable\n",
    "response = requests.get(url) #assigning a value to \"response\" variable\n",
    "data = response.json() #assigning a value to \"data\" variable\n",
    "try: #the following block may fail if it is unable to open the web broswer or the data response doesn't exist\n",
    "    old_site = data[\"archived_snapshots\"][\"closest\"][\"url\"] #assigning a value to \"old_site\" variable\n",
    "    print(\"Found this copy: \", old_site) #printing string output\n",
    "    print(\"It should appear in your browser.\") #printing string output\n",
    "    webbrowser.open(old_site) #command to open old_site\n",
    "except: #if the previous code fails, the next line of code will be computed\n",
    "    print(\"Sorry, could not find the site.\") #printing string output (failure message)\n"
   ]
  },
  {
   "cell_type": "markdown",
   "id": "782e9b4a",
   "metadata": {},
   "source": [
    "# Week 2: Exploring Data in Multiple Ways"
   ]
  },
  {
   "cell_type": "markdown",
   "id": "22fe08f8",
   "metadata": {},
   "source": [
    "### Task 3.1"
   ]
  },
  {
   "cell_type": "code",
   "execution_count": null,
   "id": "9b5fcda4",
   "metadata": {},
   "outputs": [],
   "source": [
    "from IPython.display import Image  #Imports python function capable of displaying images\n",
    "Image (\"picture1.jpg\")  #retrieves an image saved on the computer"
   ]
  },
  {
   "cell_type": "code",
   "execution_count": null,
   "id": "0921823f",
   "metadata": {},
   "outputs": [],
   "source": [
    "from IPython.display import Audio  #Imports python function capable of playing audio\n",
    "\n",
    "Audio (\"audio1.mid\")  #retrieves a midi file saved on the computer"
   ]
  },
  {
   "cell_type": "code",
   "execution_count": null,
   "id": "8a77d782",
   "metadata": {},
   "outputs": [],
   "source": [
    "Audio (\"audio2.ogg\")\n",
    "#This file is licensed under the Creative Commons Attribution-Share Alike 3.0 Unported license. \n",
    "#You are free: \n",
    "#•to share – to copy, distribute and transmit the work\n",
    "#•to remix – to adapt the work\n",
    "#Under the following conditions: \n",
    "#•attribution – You must give appropriate credit, provide a link to the license, and indicate if changes were made. You may do so in any reasonable manner, but not in any way that suggests the licensor endorses you or your use.\n",
    "#•share alike – If you remix, transform, or build upon the material, you must distribute your contributions under the same or compatible license as the original.\n",
    "#The original ogg file was found at the url: \n",
    "#https://en.wikipedia.org/wiki/File:GoldbergVariations_MehmetOkonsar-1of3_Var1to10.ogg"
   ]
  },
  {
   "cell_type": "markdown",
   "id": "554fd0f2",
   "metadata": {},
   "source": [
    "# Explanation\n",
    "Audio1.mid will not play as it is a MIDI (Musical Instrument Digital Interface) file. This holds information on how musical instruments should be played, and needs software to translate it. However, Audio2.ogg works as it is compatible with the Python library's software."
   ]
  },
  {
   "cell_type": "markdown",
   "id": "b692db57",
   "metadata": {},
   "source": [
    "### Task 3.2"
   ]
  },
  {
   "cell_type": "code",
   "execution_count": null,
   "id": "18320eb4",
   "metadata": {},
   "outputs": [],
   "source": [
    "from matplotlib import pyplot  #imports a python library\n",
    "test_picture = pyplot.imread(\"picture1.jpg\") \n",
    "print(\"Numpy array of the image is: \", test_picture)\n",
    "pyplot.imshow(test_picture)\n",
    "\n",
    "#this prints numbers representing the RGB values of each pixel"
   ]
  },
  {
   "cell_type": "code",
   "execution_count": null,
   "id": "0d4951c9",
   "metadata": {},
   "outputs": [],
   "source": [
    "test_picture_filtered = 2*test_picture/3 # / means the data will be converted to floats\n",
    "pyplot.imshow(test_picture_filtered) #Reffered to as Image1 "
   ]
  },
  {
   "cell_type": "code",
   "execution_count": null,
   "id": "72710a8b",
   "metadata": {},
   "outputs": [],
   "source": [
    "test_picture_filtered = 2*test_picture//3 # // means the data will stay as an integer\n",
    "pyplot.imshow(test_picture_filtered) #Reffered to as Image2"
   ]
  },
  {
   "cell_type": "code",
   "execution_count": null,
   "id": "f3426ddc",
   "metadata": {},
   "outputs": [],
   "source": [
    "test_picture_filtered = 2*(test_picture//3) #the brackets means the multiplication will not proceed until the divison has finished i.e there will be no overflow\n",
    "pyplot.imshow(test_picture_filtered) #Reffered to as Image3"
   ]
  },
  {
   "cell_type": "markdown",
   "id": "7fbabf5b",
   "metadata": {},
   "source": [
    "# Discussion:\n",
    "\n",
    "Image1*: is displaying incorectly as 2*test_picture/3 is dividing the pixels/RGB data by 3, causing them to turn into decimals/floats. This means that every pixel which is out with the range specified will show a white pixel instead of a coloured one. \n",
    "\n",
    "Image2: Here the double slash (//) is instructing the program to keep the values as an integer and not convert them to a string. However, as there are no brackets keeping the division seperate from the multiplication, overflow is occuring. This causes the pixels to display incorectly.\n",
    "\n",
    "Image3: As a double slash is used as well as brackets to keep the division and multiplication seperate, the image is displaying without any errors.\n",
    "\n",
    "\n",
    "\n",
    "*See comments for image names"
   ]
  },
  {
   "cell_type": "markdown",
   "id": "b9b80be6",
   "metadata": {},
   "source": [
    "### Task 3.3"
   ]
  },
  {
   "cell_type": "code",
   "execution_count": null,
   "id": "acd72bcd",
   "metadata": {},
   "outputs": [],
   "source": [
    "from sklearn import datasets  #loads the datasets"
   ]
  },
  {
   "cell_type": "code",
   "execution_count": null,
   "id": "1fa4a29c",
   "metadata": {},
   "outputs": [],
   "source": [
    "dir(datasets)  #Shows all of the datasets/functions available in the library"
   ]
  },
  {
   "cell_type": "markdown",
   "id": "38d61291",
   "metadata": {},
   "source": [
    "For this task I'm going to work with the datasets 'load_wine' as I like wine and 'load_breast_cancer' as womens health is an interesting topic to me"
   ]
  },
  {
   "cell_type": "code",
   "execution_count": null,
   "id": "ed365e8f",
   "metadata": {},
   "outputs": [],
   "source": [
    "wine_data = datasets.load_wine()\n",
    "breast_cancer_data = datasets.load_breast_cancer()\n",
    "#loads 2 different datasets from the library"
   ]
  },
  {
   "cell_type": "code",
   "execution_count": null,
   "id": "52bbdafc",
   "metadata": {},
   "outputs": [],
   "source": [
    "wine_data.DESCR #description of the data in this file"
   ]
  },
  {
   "cell_type": "code",
   "execution_count": null,
   "id": "f4e767c8",
   "metadata": {},
   "outputs": [],
   "source": [
    "breast_cancer_data.DESCR "
   ]
  },
  {
   "cell_type": "code",
   "execution_count": null,
   "id": "2b35ba41",
   "metadata": {},
   "outputs": [],
   "source": [
    "print (wine_data.DESCR) #Makes the description easier to read!"
   ]
  },
  {
   "cell_type": "code",
   "execution_count": null,
   "id": "87e2f150",
   "metadata": {},
   "outputs": [],
   "source": [
    "print (breast_cancer_data.DESCR)"
   ]
  },
  {
   "cell_type": "code",
   "execution_count": null,
   "id": "5dc30a99",
   "metadata": {},
   "outputs": [],
   "source": [
    "wine_data.feature_names #by observing the feature names I can conclude that this dataset is trying to analyse what components makes various wines taste different."
   ]
  },
  {
   "cell_type": "code",
   "execution_count": null,
   "id": "f1fb78ce",
   "metadata": {},
   "outputs": [],
   "source": [
    "breast_cancer_data.feature_names #From the featured names I can guess that this dataset is observing the average attributes of the collected data, as well as the most severe instances and errors"
   ]
  },
  {
   "cell_type": "code",
   "execution_count": null,
   "id": "d327b51d",
   "metadata": {},
   "outputs": [],
   "source": [
    "wine_data.target_names"
   ]
  },
  {
   "cell_type": "code",
   "execution_count": null,
   "id": "ff2e44d9",
   "metadata": {},
   "outputs": [],
   "source": [
    "wine_data.keys() #the objects/categories are shown"
   ]
  },
  {
   "cell_type": "code",
   "execution_count": null,
   "id": "80162a56",
   "metadata": {},
   "outputs": [],
   "source": [
    "images_data = datasets.load_sample_images()\n",
    "print (images_data.DESCR)"
   ]
  },
  {
   "cell_type": "code",
   "execution_count": null,
   "id": "56964f58",
   "metadata": {},
   "outputs": [],
   "source": [
    "images_data.keys()"
   ]
  },
  {
   "cell_type": "code",
   "execution_count": null,
   "id": "587231b4",
   "metadata": {},
   "outputs": [],
   "source": [
    "images_data.images #shows the data related to the images"
   ]
  },
  {
   "cell_type": "code",
   "execution_count": null,
   "id": "995d0daa",
   "metadata": {},
   "outputs": [],
   "source": [
    "images_data.filenames #shows the file names of the images"
   ]
  },
  {
   "cell_type": "markdown",
   "id": "1d256f84",
   "metadata": {},
   "source": [
    "### Task 3.4"
   ]
  },
  {
   "cell_type": "code",
   "execution_count": null,
   "id": "dc3e4193",
   "metadata": {},
   "outputs": [],
   "source": [
    "from sklearn import datasets \n",
    "import pandas\n",
    "\n",
    "wine_data = datasets.load_wine()\n",
    "\n",
    "wine_dataframe = pandas.DataFrame(data=wine_data['data'], columns = wine_data['feature_names'])"
   ]
  },
  {
   "cell_type": "code",
   "execution_count": null,
   "id": "68543ad1",
   "metadata": {
    "scrolled": true
   },
   "outputs": [],
   "source": [
    "wine_data.data #Shows the values in the wine dataset in its raw form"
   ]
  },
  {
   "cell_type": "code",
   "execution_count": null,
   "id": "9309770a",
   "metadata": {},
   "outputs": [],
   "source": [
    "wine_dataframe.head() #when loaded with pandas, the data is formatted... and readable!"
   ]
  },
  {
   "cell_type": "code",
   "execution_count": null,
   "id": "9e905044",
   "metadata": {},
   "outputs": [],
   "source": [
    "wine_dataframe.describe() #pandas also allows you to compute statistics about the data"
   ]
  },
  {
   "cell_type": "markdown",
   "id": "c5eea0d0",
   "metadata": {},
   "source": [
    "### Discussion:\n",
    "wine_data.data displays all of the data available in the dataset. \n",
    "dataframe.head displays the first few rows of this data in a column (using feature_names as headings \n",
    "dataframe.describe takes the averages and trends from all 178 rows of original data and displays it in a table (i.e provides a summary of the data)"
   ]
  },
  {
   "cell_type": "code",
   "execution_count": null,
   "id": "45902288",
   "metadata": {},
   "outputs": [],
   "source": []
  }
 ],
 "metadata": {
  "kernelspec": {
   "display_name": "Python 3 (ipykernel)",
   "language": "python",
   "name": "python3"
  },
  "language_info": {
   "codemirror_mode": {
    "name": "ipython",
    "version": 3
   },
   "file_extension": ".py",
   "mimetype": "text/x-python",
   "name": "python",
   "nbconvert_exporter": "python",
   "pygments_lexer": "ipython3",
   "version": "3.10.13"
  }
 },
 "nbformat": 4,
 "nbformat_minor": 5
}
